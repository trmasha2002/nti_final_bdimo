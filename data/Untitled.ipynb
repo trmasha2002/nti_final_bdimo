{
 "cells": [
  {
   "cell_type": "code",
   "execution_count": 5,
   "metadata": {},
   "outputs": [],
   "source": [
    "import catboost as cb\n",
    " \n"
   ]
  },
  {
   "cell_type": "code",
   "execution_count": 9,
   "metadata": {},
   "outputs": [],
   "source": [
    "X_train_in = pd.read_csv(\"X_train.csv\", index_col=0)\n",
    "y_train_in = pd.read_csv(\"y_train.csv\",index_col=0)\n",
    "X_val = pd.read_csv(\"X_test.csv\", index_col=0)"
   ]
  },
  {
   "cell_type": "code",
   "execution_count": 6,
   "metadata": {},
   "outputs": [],
   "source": [
    "\n",
    "model = cb.CatBoostClassifier(iterations=5) # классификатор\n"
   ]
  },
  {
   "cell_type": "code",
   "execution_count": 7,
   "metadata": {},
   "outputs": [
    {
     "name": "stdout",
     "output_type": "stream",
     "text": [
      "Learning rate set to 0.12562\n",
      "0:\tlearn: 0.6835308\ttotal: 47.6ms\tremaining: 190ms\n",
      "1:\tlearn: 0.6740993\ttotal: 47.6ms\tremaining: 71.4ms\n",
      "2:\tlearn: 0.6648489\ttotal: 47.7ms\tremaining: 31.8ms\n",
      "3:\tlearn: 0.6564586\ttotal: 47.8ms\tremaining: 11.9ms\n",
      "4:\tlearn: 0.6475464\ttotal: 47.8ms\tremaining: 0us\n"
     ]
    },
    {
     "data": {
      "text/plain": [
       "<catboost.core.CatBoostClassifier at 0x7fea4bc6be50>"
      ]
     },
     "execution_count": 7,
     "metadata": {},
     "output_type": "execute_result"
    }
   ],
   "source": [
    "model.fit(train_data, train_labels) # обучение классификатора\n"
   ]
  },
  {
   "cell_type": "code",
   "execution_count": 10,
   "metadata": {},
   "outputs": [
    {
     "name": "stdout",
     "output_type": "stream",
     "text": [
      "[1 0]\n"
     ]
    }
   ],
   "source": [
    "prediction = model.predict(test_data) # передача тестовой выборки в модель\n",
    "print(prediction) # вывод результата \"предсказания\""
   ]
  }
 ],
 "metadata": {
  "kernelspec": {
   "display_name": "Python 3",
   "language": "python",
   "name": "python3"
  },
  "language_info": {
   "codemirror_mode": {
    "name": "ipython",
    "version": 3
   },
   "file_extension": ".py",
   "mimetype": "text/x-python",
   "name": "python",
   "nbconvert_exporter": "python",
   "pygments_lexer": "ipython3",
   "version": "3.7.6"
  }
 },
 "nbformat": 4,
 "nbformat_minor": 4
}
